{
 "cells": [
  {
   "cell_type": "markdown",
   "id": "88e99832",
   "metadata": {},
   "source": [
    "Write a program to accept the cost price of a bike and display the road tax to be paid according to the following criteria :\n",
    " Cost price (in Rs)                                       Tax\n",
    "        > 100000                                                  15 %\n",
    "        > 50000 and <= 100000                          10%\n",
    "        <= 50000                                                  5%"
   ]
  },
  {
   "cell_type": "code",
   "execution_count": 17,
   "id": "e4ed8303",
   "metadata": {},
   "outputs": [
    {
     "name": "stdout",
     "output_type": "stream",
     "text": [
      "cost of price bike:40000\n",
      "your bike taxes is,2000.0\n"
     ]
    }
   ],
   "source": [
    "cost_of_price = int(input(\"cost of price bike:\"))\n",
    "taxes = 0\n",
    "if cost_of_price >100000:\n",
    "    taxes = cost_of_price * 0.5\n",
    "    print(f\"your bike taxes is,{taxes}\")\n",
    "elif cost_of_price>50000 and cost_of_price <=100000:\n",
    "    taxes = cost_of_price * 0.1\n",
    "    print(f\"your bike taxes is,{taxes}\")\n",
    "elif cost_of_price <=50000:\n",
    "    taxes = cost_of_price * 0.05\n",
    "    print(f\"your bike taxes is,{taxes}\")\n",
    "\n"
   ]
  },
  {
   "cell_type": "markdown",
   "id": "e24d5bd4",
   "metadata": {},
   "source": [
    "Q3. Write a program to check whether a person is senior citizen or not."
   ]
  },
  {
   "cell_type": "code",
   "execution_count": 2,
   "id": "2f4cb630",
   "metadata": {},
   "outputs": [
    {
     "name": "stdout",
     "output_type": "stream",
     "text": [
      "Enter you age:34\n",
      "most respectful citizen:\n",
      "my age is 34, and i am senior citizen:\n"
     ]
    }
   ],
   "source": [
    "age = int(input(\"Enter you age:\"))\n",
    "if age >18 and age<=30:\n",
    "    print(\"person is not senior citizen:\")\n",
    "elif age >30:\n",
    "    print(\"most respectful citizen:\")\n",
    "    print(f\"my age is {age}, and i am senior citizen:\")\n",
    "    "
   ]
  },
  {
   "cell_type": "markdown",
   "id": "2abbb2b9",
   "metadata": {},
   "source": [
    "Q4. Write a program to find the lowest number out of two numbers excepted from user"
   ]
  },
  {
   "cell_type": "code",
   "execution_count": 4,
   "id": "eec93975",
   "metadata": {},
   "outputs": [
    {
     "name": "stdout",
     "output_type": "stream",
     "text": [
      "Enter your first number:5\n",
      "Enter your second number:17\n",
      "smallest nummber 5\n"
     ]
    }
   ],
   "source": [
    "num1 = int(input(\"Enter your first number:\"))\n",
    "num2 = int(input(\"Enter your second number:\"))\n",
    "if num1>num2:\n",
    "    print(\"smallest number\",num2)\n",
    "else:\n",
    "    print(\"smallest nummber\",num1)"
   ]
  },
  {
   "cell_type": "markdown",
   "id": "a422a48e",
   "metadata": {},
   "source": [
    "Q5. Write a program to find the largest number out of two numbers excepted from user."
   ]
  },
  {
   "cell_type": "code",
   "execution_count": 7,
   "id": "939e018f",
   "metadata": {},
   "outputs": [
    {
     "name": "stdout",
     "output_type": "stream",
     "text": [
      "Enter your first number:6\n",
      "Enter your second number:17\n",
      "largest number 17\n"
     ]
    }
   ],
   "source": [
    "num1 = int(input(\"Enter your first number:\"))\n",
    "num2 = int(input(\"Enter your second number:\"))\n",
    "if num1>num2:\n",
    "    print(\"largest number\",num1)\n",
    "else:\n",
    "    print(\"largest number\",num2)\n",
    "        \n"
   ]
  },
  {
   "cell_type": "markdown",
   "id": "d0e7e154",
   "metadata": {},
   "source": [
    "write a program to check whether a number (accepted from user) is positive or negative.\n",
    "\n"
   ]
  },
  {
   "cell_type": "code",
   "execution_count": 9,
   "id": "a70df1a1",
   "metadata": {},
   "outputs": [
    {
     "name": "stdout",
     "output_type": "stream",
     "text": [
      "Enter your number:-1\n",
      "given number is -1 negative:\n"
     ]
    }
   ],
   "source": [
    "num = int(input(\"Enter your number:\"))\n",
    "if num>0:\n",
    "    print(f\"given number is {num} positive:\")\n",
    "else:\n",
    "    print(f\"given number is {num} negative:\")\n"
   ]
  },
  {
   "cell_type": "markdown",
   "id": "bf99af5c",
   "metadata": {},
   "source": [
    "Q7. Write a program to check whether a number is even or odd"
   ]
  },
  {
   "cell_type": "code",
   "execution_count": 11,
   "id": "dd4d0389",
   "metadata": {},
   "outputs": [
    {
     "name": "stdout",
     "output_type": "stream",
     "text": [
      "Enter your number:9\n",
      "given number is 9 odd\n"
     ]
    }
   ],
   "source": [
    "num = int(input(\"Enter your number:\"))\n",
    "if num%2==0:\n",
    "    print(f\"given number is {num} odd\")\n",
    "else:\n",
    "    print(f\"given number is {num} odd\")"
   ]
  },
  {
   "cell_type": "markdown",
   "id": "b10fac4f",
   "metadata": {},
   "source": [
    "\n",
    "Q8. Write a program to whether a number (accepted from user) is divisible by 2 and 3 both."
   ]
  },
  {
   "cell_type": "code",
   "execution_count": 15,
   "id": "694fdd3f",
   "metadata": {
    "scrolled": true
   },
   "outputs": [
    {
     "name": "stdout",
     "output_type": "stream",
     "text": [
      "Enter your number:18\n",
      "given number is 18 divisible by both\n"
     ]
    }
   ],
   "source": [
    "num = int(input(\"Enter your number:\"))\n",
    "if num%2==0 and num%3==0:\n",
    "    print(f\"given number is {num} divisible by both\")\n",
    "else:\n",
    "    print(f\"given number is {num} is not divisible by both\")"
   ]
  },
  {
   "cell_type": "markdown",
   "id": "f730d22a",
   "metadata": {},
   "source": [
    "Q9. Write a program to find the largest number out of three numbers excepted from user."
   ]
  },
  {
   "cell_type": "code",
   "execution_count": 21,
   "id": "153d885f",
   "metadata": {},
   "outputs": [
    {
     "name": "stdout",
     "output_type": "stream",
     "text": [
      "please enter your first number:8\n",
      "please enter your second number:6\n",
      "please enter your third number:4\n",
      "largest number, 8\n"
     ]
    }
   ],
   "source": [
    "num1 = int(input(\"please enter your first number:\"))\n",
    "num2 = int(input(\"please enter your second number:\"))\n",
    "num3 = int(input(\"please enter your third number:\"))\n",
    "if num1>num2>num3:\n",
    "    print(\"largest number,\",num1)\n",
    "elif num2>num1>num3:\n",
    "    print(\"largest number\",num2)\n",
    "elif num3>num2>num1:\n",
    "    print(\"largest number\",num3)"
   ]
  },
  {
   "cell_type": "markdown",
   "id": "1dec58a3",
   "metadata": {},
   "source": [
    "10. Write a program to check a character is vowel or not."
   ]
  },
  {
   "cell_type": "code",
   "execution_count": 2,
   "id": "928ec75d",
   "metadata": {
    "scrolled": true
   },
   "outputs": [
    {
     "name": "stdout",
     "output_type": "stream",
     "text": [
      "Please enter any character:AEIOU\n",
      "enter your charcter vowels\n"
     ]
    }
   ],
   "source": [
    "character = input(\"Please enter any character:\").lower()\n",
    "vowels = \"aeiou\"\n",
    "if character in vowels:\n",
    "    print(\"enter your charcter vowels\")\n",
    "else:\n",
    "    print(\" enter your character not vowel:\")\n"
   ]
  },
  {
   "cell_type": "code",
   "execution_count": 1,
   "id": "f3f362ab",
   "metadata": {},
   "outputs": [
    {
     "name": "stdout",
     "output_type": "stream",
     "text": [
      "shahbaz\n"
     ]
    }
   ],
   "source": [
    "print(\"shahbaz\")\n",
    "      "
   ]
  },
  {
   "cell_type": "markdown",
   "id": "0a0b4657",
   "metadata": {},
   "source": [
    "1. Accept the following from the user and calculate the percentage of class attended:\n",
    "\n",
    "a.     Total number of working days\n",
    "\n",
    "b.     Total number of days for absent\n",
    "\n",
    " After calculating percentage show that, If the percentage is less than 75, than student will not be able to sit in exam."
   ]
  },
  {
   "cell_type": "code",
   "execution_count": 9,
   "id": "98b123ea",
   "metadata": {},
   "outputs": [
    {
     "name": "stdout",
     "output_type": "stream",
     "text": [
      "Enter your working days:75\n",
      "Enter your number of absent:65\n",
      "your percentage is 86% CONGRATULATIONS!yon can sit in exam:\n"
     ]
    }
   ],
   "source": [
    "working_days = int(input(\"Enter your working days:\"))\n",
    "number_of_absent =int(input(\"Enter your number of absent:\"))\n",
    "percentage =int(float((number_of_absent/working_days)*100))\n",
    "\n",
    "if percentage <75:\n",
    "    print(f\"your percentage is {percentage}%, so you do not appear in exam:\")\n",
    "else:\n",
    "    print(f\"your percentage is {percentage}%\",\"CONGRATULATIONS!\"\"yon can sit in exam:\")"
   ]
  },
  {
   "cell_type": "markdown",
   "id": "9f58d39c",
   "metadata": {},
   "source": [
    "Q3. A company decided to give bonus to employee according to following criteria:\n",
    "\n",
    "    Time period of Service                Bonus\n",
    "\n",
    "    More than 10 years             10%\n",
    "\n",
    "    >=6 and <=10                   8%\n",
    "\n",
    "    Less than 6 years              5%\n",
    "\n",
    "    Ask user for their salary and years of service and print the net bonus amount"
   ]
  },
  {
   "cell_type": "code",
   "execution_count": 13,
   "id": "7f01a2e0",
   "metadata": {},
   "outputs": [
    {
     "name": "stdout",
     "output_type": "stream",
     "text": [
      "How long have you been working for this company:5\n",
      "would you mind if i ask about your salary:60000\n",
      "your net bonus is 3000.0\n"
     ]
    }
   ],
   "source": [
    "year_of_service = int(input(\"How long have you been working for this company:\"))\n",
    "salary = int(input(\"would you mind if i ask about your salary:\"))\n",
    "\n",
    "if year_of_service>10:\n",
    "    bonus = salary*0.1\n",
    "    print(f\"congratulations!your net bonus is{bonus}\")\n",
    "elif year_of_service>=6 and year_of_service <=10:\n",
    "    bonus = salary*0.08\n",
    "    print(f\"congratulation!your net bonus is{bonus}\")\n",
    "else:\n",
    "    bonus = salary*0.05\n",
    "    print(f\"your net bonus is {bonus}\")"
   ]
  },
  {
   "cell_type": "markdown",
   "id": "7e02f0ad",
   "metadata": {},
   "source": [
    "Q4. Accept the marked price from the user and  calculate the Net amount as(Marked Price –    Discount) to pay according to following criteria:\n",
    "\n",
    "Marked Price\t              Discount\n",
    ">10000\t                       20%\n",
    ">7000 and <=10000\t            15%\n",
    "<=7000\t                        10%"
   ]
  },
  {
   "cell_type": "code",
   "execution_count": 29,
   "id": "eb685114",
   "metadata": {},
   "outputs": [
    {
     "ename": "IndentationError",
     "evalue": "unindent does not match any outer indentation level (<tokenize>, line 6)",
     "output_type": "error",
     "traceback": [
      "\u001b[1;36m  File \u001b[1;32m<tokenize>:6\u001b[1;36m\u001b[0m\n\u001b[1;33m    print(f\"your discounted price is:{discounted_price}\")\u001b[0m\n\u001b[1;37m    ^\u001b[0m\n\u001b[1;31mIndentationError\u001b[0m\u001b[1;31m:\u001b[0m unindent does not match any outer indentation level\n"
     ]
    }
   ],
   "source": [
    "marked_price = int(input(\"please enter your marked price:\"))\n",
    "if marked_price<10000:\n",
    "    \n",
    "     discounted_price = marked_price -(marked_price)*0.2\n",
    "        \n",
    "    print(f\"your discounted price is:{discounted_price}\")\n",
    "                             \n",
    "elif marked_price>7000 and marked_price<=10000:                                                                                                                                                                                                                                                                                           \n",
    "    \n",
    "      discounted_price = marked_price -(marked_price)*0.15     \n",
    "        \n",
    "    print(f\"your discounted price is {discounted_price}\")\n",
    "    \n",
    "else:\n",
    "    discounted_price = marked_price - (marked_price)*0.01\n",
    "    \n",
    "    print(f\"your discounted price is {discounted_price}\")\n",
    "    "
   ]
  },
  {
   "cell_type": "code",
   "execution_count": 31,
   "id": "eb926c86",
   "metadata": {},
   "outputs": [
    {
     "ename": "IndentationError",
     "evalue": "unindent does not match any outer indentation level (<tokenize>, line 6)",
     "output_type": "error",
     "traceback": [
      "\u001b[1;36m  File \u001b[1;32m<tokenize>:6\u001b[1;36m\u001b[0m\n\u001b[1;33m    print(f\"your discounted price is:{discounted_price}\")\u001b[0m\n\u001b[1;37m    ^\u001b[0m\n\u001b[1;31mIndentationError\u001b[0m\u001b[1;31m:\u001b[0m unindent does not match any outer indentation level\n"
     ]
    }
   ],
   "source": []
  },
  {
   "cell_type": "code",
   "execution_count": 42,
   "id": "2bb89581",
   "metadata": {},
   "outputs": [
    {
     "name": "stdout",
     "output_type": "stream",
     "text": [
      "enter you marked price:6000\n",
      "your net amount to pay is:5400.0\n"
     ]
    }
   ],
   "source": [
    "marked_price = int(input(\"enter you marked price:\"))\n",
    "\n",
    "discount_price =0\n",
    "if marked_price>10000:\n",
    "    discount_price = (marked_price)*0.2\n",
    "    net_amount = marked_price - discount_price\n",
    "    print(f\"your net amount to pay is:{net_amount}\")\n",
    "elif marked_price>7000 and marked_price<10000:\n",
    "    discount_price = (marked_price)*0.15\n",
    "    net_amount = marked_price -discount_price\n",
    "    print(f\"your net amount to pay is:{net_amount}\")\n",
    "else:\n",
    "    discount_price = (marked_price)*0.1\n",
    "    net_amount = marked_price - discount_price\n",
    "    print(f\"your net amount to pay is:{net_amount}\")"
   ]
  },
  {
   "cell_type": "code",
   "execution_count": null,
   "id": "2f249b96",
   "metadata": {},
   "outputs": [],
   "source": [
    "sides1 = int(input(\"enters first sides of triangle:\"))\n",
    "sides2 = int(input(\"enters second sides of triangle:\"))\n",
    "sides3 = int(input(\"enters third sides of triangle:\"))\n",
    "if sides1 ==sides2==sides3:\n",
    "    print(\"An equiletral triangle:\")\n",
    "if (sides1==sides2 and sides2!=sides3) or (sides2==sides3 and sides2!=sides1) or (sides1==sides3 and sides1!=sides2):\n",
    "    print(\"An iscosceles triangle:\")\n",
    "if sides1!=sides2 and sides1!=sides3 and sides2!=sides3:\n",
    "    print(\"an scelene triangle:\")"
   ]
  },
  {
   "cell_type": "code",
   "execution_count": 7,
   "id": "dad28274",
   "metadata": {},
   "outputs": [
    {
     "name": "stdout",
     "output_type": "stream",
     "text": [
      "False\n"
     ]
    }
   ],
   "source": [
    "a=\"true\"\n",
    "b= \"true\"\n",
    "c=\"true\"\n",
    "d= \"true\"\n",
    "print(not a and b and c)"
   ]
  },
  {
   "cell_type": "markdown",
   "id": "38f84040",
   "metadata": {},
   "source": [
    "Q7. Write a program to accept two numbers and mathematical operators and perform operation accordingly"
   ]
  },
  {
   "cell_type": "code",
   "execution_count": 24,
   "id": "0cc1b19c",
   "metadata": {},
   "outputs": [
    {
     "name": "stdout",
     "output_type": "stream",
     "text": [
      "Enter first number:12\n",
      "Enter second number:35\n",
      "Enter methametial operation:*\n",
      "results is: 420\n"
     ]
    }
   ],
   "source": [
    "number1 = int(input(\"Enter first number:\"))\n",
    "number2 = int(input(\"Enter second number:\"))\n",
    "operator = input(\"Enter methametial operation:\")\n",
    "if operator == \"+\":\n",
    "    print(\"reslts is:\", number1+number2)\n",
    "elif operator == \"-\":\n",
    "    print(\"results is:\",number2-number1)\n",
    "elif operator == \"*\":\n",
    "    print(\"results is:\", number1*number2)\n",
    "elif operator == \"/\":\n",
    "    print(\"results is:\", number1/number2)\n",
    "elif operator == \"//\":\n",
    "    print(\"results is:\", number1//number2)\n",
    "elif operator == \"**\":\n",
    "    print(\"resuls is:\", number1**number2)\n",
    "else:\n",
    "    print(\"invalid operator:\")\n",
    "    \n"
   ]
  },
  {
   "cell_type": "code",
   "execution_count": 27,
   "id": "b4e39fe7",
   "metadata": {},
   "outputs": [
    {
     "name": "stdout",
     "output_type": "stream",
     "text": [
      "Enter first number:34\n",
      "Enter mathematical operation,(+,-,/,*,//,**,%)://\n",
      "Enter second number:45\n",
      "0\n"
     ]
    }
   ],
   "source": [
    "number1 = int(input(\"Enter first number:\"))\n",
    "operator = input(\"Enter mathematical operation,(+,-,/,*,//,**,%):\")\n",
    "number2 = int(input(\"Enter second number:\"))\n",
    "if operator == \"+\":\n",
    "    print(number1+number2)\n",
    "elif operator ==\"-\":\n",
    "    print(number2-number1)\n",
    "elif operator == \"*\":\n",
    "    print(number1*number2)\n",
    "elif operator == \"/\":\n",
    "    print(number1/number2)\n",
    "elif operator == \"//\":\n",
    "    print(number1//number2)\n",
    "elif operator == \"%\":\n",
    "    print(number1%number2)\n",
    "elif operator == \"**\":\n",
    "    print(number1**number2)\n",
    "else:\n",
    "    print(\"INVALID OPERATION\")"
   ]
  },
  {
   "cell_type": "code",
   "execution_count": 30,
   "id": "899ccd81",
   "metadata": {},
   "outputs": [
    {
     "data": {
      "text/plain": [
       "False"
      ]
     },
     "execution_count": 30,
     "metadata": {},
     "output_type": "execute_result"
    }
   ],
   "source": [
    "12!=12\n"
   ]
  },
  {
   "cell_type": "markdown",
   "id": "211f7a54",
   "metadata": {},
   "source": [
    "Q8. Accept the age, sex (‘M’, ‘F’), number of days and display the wages accordingly\n",
    "age                         sex            wage/day\n",
    ">18 and <30                  M                700\n",
    "                             F                 750\n",
    ">=30 and<=40                 M                 800\n",
    "                             F                  850"
   ]
  },
  {
   "cell_type": "code",
   "execution_count": 41,
   "id": "f16980f1",
   "metadata": {},
   "outputs": [
    {
     "name": "stdout",
     "output_type": "stream",
     "text": [
      "enter your age:29\n",
      "enter you gender :M,F:F\n",
      "enter your days:500\n",
      "total wadges of 375000\n"
     ]
    }
   ],
   "source": [
    "age = int(input(\"enter your age:\"))\n",
    "gender = (input(\"enter you gender :M,F:\"))\n",
    "number = int(input(\"enter your days:\"))\n",
    "if age>18 and age<=30 and gender ==\"M\":\n",
    "    amount= number*700\n",
    "    print(\"total wadges of\",amount)\n",
    "elif age>18 and age<=30 and gender ==\"F\":\n",
    "    amount= number*750\n",
    "    print(\"total wadges of\",amount)\n",
    "elif age>=30 and age<=40 and gender == \"M\":\n",
    "    amount = number*800\n",
    "    print(\"total wadges\",amount)\n",
    "elif age>=30 and age<=40 and gender ==\"F\":\n",
    "    amount=number*850\n",
    "    print(\"total wadges\",amount)\n",
    "else:\n",
    "    print(\"enter appropiate age\")"
   ]
  },
  {
   "cell_type": "code",
   "execution_count": 1,
   "id": "470dc118",
   "metadata": {},
   "outputs": [
    {
     "data": {
      "text/plain": [
       "-13"
      ]
     },
     "execution_count": 1,
     "metadata": {},
     "output_type": "execute_result"
    }
   ],
   "source": [
    "~12\n"
   ]
  },
  {
   "cell_type": "code",
   "execution_count": null,
   "id": "bd8e4b07",
   "metadata": {},
   "outputs": [],
   "source": []
  }
 ],
 "metadata": {
  "kernelspec": {
   "display_name": "Python 3 (ipykernel)",
   "language": "python",
   "name": "python3"
  },
  "language_info": {
   "codemirror_mode": {
    "name": "ipython",
    "version": 3
   },
   "file_extension": ".py",
   "mimetype": "text/x-python",
   "name": "python",
   "nbconvert_exporter": "python",
   "pygments_lexer": "ipython3",
   "version": "3.9.12"
  }
 },
 "nbformat": 4,
 "nbformat_minor": 5
}
