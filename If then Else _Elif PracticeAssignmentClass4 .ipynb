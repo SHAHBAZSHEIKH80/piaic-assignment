{
 "cells": [
  {
   "cell_type": "raw",
   "metadata": {
    "id": "8rksu2_jMVjQ"
   },
   "source": [
    "1) A company decided to give bonus of 5% to employee if his/her year of service is more than 5 years.\n",
    "Ask user for their salary and year of service and print the net bonus amount."
   ]
  },
  {
   "cell_type": "code",
   "execution_count": 1,
   "metadata": {
    "id": "_GRPHPiLMVjX"
   },
   "outputs": [
    {
     "name": "stdout",
     "output_type": "stream",
     "text": [
      "port qasim authority:\n",
      "enter your name:shahbaz ahmed\n",
      "hello sir: shahbaz ahmed\n",
      "enter your salary:50000\n",
      "enter your joining year:2017\n",
      "you are eligible to bonus:\n",
      "your bonus: 250.0\n"
     ]
    }
   ],
   "source": [
    "#Type your code here\n",
    "print(\"port qasim authority:\")\n",
    "\n",
    "name = input(\"enter your name:\")\n",
    "\n",
    "print(\"hello sir:\",name)\n",
    "\n",
    "salary = int(input(\"enter your salary:\"))\n",
    "\n",
    "joining_year = int(input(\"enter your joining year:\"))\n",
    "\n",
    "year_of_service =2022-joining_year\n",
    "\n",
    "if year_of_service>=5:\n",
    "    \n",
    "    print(\"you are eligible to bonus:\")\n",
    "    \n",
    "    bonus= (salary/100)*0.5\n",
    "    \n",
    "    print(\"your bonus:\",bonus)\n",
    "    \n",
    "else:\n",
    "    (\"sorry!you are not eligible to bonus:\")"
   ]
  },
  {
   "cell_type": "code",
   "execution_count": null,
   "metadata": {
    "id": "3kDSFTKdMcqZ"
   },
   "outputs": [],
   "source": []
  },
  {
   "cell_type": "markdown",
   "metadata": {
    "id": "iXt5RVcjMVja"
   },
   "source": [
    "\n",
    "2) Write a program to check whether a person is eligible for voting or not. (accept age from user)"
   ]
  },
  {
   "cell_type": "code",
   "execution_count": 5,
   "metadata": {
    "id": "jXVCvia3MVjh"
   },
   "outputs": [
    {
     "name": "stdout",
     "output_type": "stream",
     "text": [
      "   Welcome to election boot              \n",
      "enter your name:niaz\n",
      "your name is: niaz\n",
      "enter your age:38\n",
      "welcome!Eligible for voting:\n",
      "most welcome of election boot and vote for jamat e islami:\n"
     ]
    }
   ],
   "source": [
    "#Type your code here\n",
    "print(\"   Welcome to election boot              \")\n",
    "\n",
    "name = input(\"enter your name:\")\n",
    "\n",
    "print(\"your name is:\",name)\n",
    "\n",
    "age = int(input(\"enter your age:\"))\n",
    "\n",
    "if age>=18:\n",
    "    \n",
    "    print(\"welcome!Eligible for voting:\")\n",
    "    \n",
    "    print(\"most welcome of election boot and vote for jamat e islami:\")\n",
    "    \n",
    "else:\n",
    "    print(\"sorry!you are not eligible to voting:\")\n",
    "    \n",
    "    print(\"bad luck!next time\")"
   ]
  },
  {
   "cell_type": "markdown",
   "metadata": {
    "id": "IkNM7QpCMVjj"
   },
   "source": [
    "\n",
    "3) Write a program to check whether a number entered by user is even or odd."
   ]
  },
  {
   "cell_type": "code",
   "execution_count": 5,
   "metadata": {
    "id": "-GxviwByMVjl"
   },
   "outputs": [
    {
     "name": "stdout",
     "output_type": "stream",
     "text": [
      "enter your name:9\n",
      "Given number 9 is odd:\n"
     ]
    }
   ],
   "source": [
    "#Type your code here\n",
    "num = int(input(\"enter your name:\"))\n",
    "\n",
    "if num%2==0:\n",
    "    \n",
    "    print(\"Given number {0} is even: \".format(num))\n",
    "    \n",
    "else:\n",
    "    print(\"Given number {0} is odd:\".format(num))"
   ]
  },
  {
   "cell_type": "markdown",
   "metadata": {
    "id": "_jEHjkfdMVjm"
   },
   "source": [
    "4) Write a program to check whether a number is divisible by 7 or not.\n",
    "Show Answer"
   ]
  },
  {
   "cell_type": "code",
   "execution_count": 3,
   "metadata": {
    "id": "IRNXyG1GMVjo"
   },
   "outputs": [
    {
     "name": "stdout",
     "output_type": "stream",
     "text": [
      "enter your number:122\n",
      "given number 122 is not divisible by 7\n"
     ]
    }
   ],
   "source": [
    "#Type your code here\n",
    "num = int(input(\"enter your number:\"))\n",
    "\n",
    "if num%7==0:\n",
    "    \n",
    "    print(\"given number {0} is divisible by 7\".format(num))\n",
    "    \n",
    "else:\n",
    "    print(\"given number {0} is not divisible by 7\".format(num))"
   ]
  },
  {
   "cell_type": "raw",
   "metadata": {
    "id": "XxfyVe4kMVjp"
   },
   "source": [
    "5) Write a program to display \n",
    "\"Hello\" if a number entered by user is a multiple of five , otherwise print \"Bye\"."
   ]
  },
  {
   "cell_type": "code",
   "execution_count": 5,
   "metadata": {
    "id": "Ixnz4R4TMVjr"
   },
   "outputs": [
    {
     "name": "stdout",
     "output_type": "stream",
     "text": [
      "enter your number:36\n",
      "Bye:\n"
     ]
    }
   ],
   "source": [
    "#Type your code here\n",
    "num = int(input(\"enter your number:\"))\n",
    "\n",
    "if num%5==0:\n",
    "    \n",
    "    print(\"Hello:\")\n",
    "    \n",
    "else:\n",
    "    print(\"Bye:\")"
   ]
  },
  {
   "cell_type": "raw",
   "metadata": {
    "id": "qfzRUUwOMVjs"
   },
   "source": [
    "6) Write a program to calculate the electricity bill (accept number of unit from user) according to the following criteria :\n",
    "     Unit                                                     Price  \n",
    "uptp 100 units                                             no charge\n",
    "Next 200 units                                              Rs 5 per unit\n",
    "After 200 units                                             Rs 10 per unit\n",
    "(For example if input unit is 350 than total bill amount is Rs.2000\n",
    "(For example if input unit is 97 than total bill amount is Rs.0\n",
    "(For example if input unit is 150 than total bill amount is Rs.250"
   ]
  },
  {
   "cell_type": "code",
   "execution_count": 16,
   "metadata": {
    "id": "1BY1oAIpMVju"
   },
   "outputs": [
    {
     "name": "stdout",
     "output_type": "stream",
     "text": [
      "Enter your unit:250\n",
      "you net charge of bill: 2500\n"
     ]
    }
   ],
   "source": [
    "#Type your code here\n",
    "unit = int(input(\"Enter your unit:\"))\n",
    "if unit>=1 and unit<=100:\n",
    "    \n",
    "    print(\"no charge:\")\n",
    "    \n",
    "    bill = 0\n",
    "    \n",
    "elif unit>=100 and unit<=200:\n",
    "    \n",
    "    bill = 5*unit\n",
    "    \n",
    "    print(\"your net charge of bill:\",bill)\n",
    "    \n",
    "elif unit >200:\n",
    "    \n",
    "    bill = 10*unit\n",
    "    \n",
    "    print(\"you net charge of bill:\",bill)\n"
   ]
  },
  {
   "cell_type": "raw",
   "metadata": {
    "id": "msAIDMRDMVjv"
   },
   "source": [
    "7) Write a program to display the last digit of a number.\n",
    "\n"
   ]
  },
  {
   "cell_type": "code",
   "execution_count": 2,
   "metadata": {
    "id": "VQwLuGzbMVjv"
   },
   "outputs": [
    {
     "name": "stdout",
     "output_type": "stream",
     "text": [
      "enter your multiple number:145678356\n",
      "given the last digit of numbers: 6\n"
     ]
    }
   ],
   "source": [
    "#Type your code here\n",
    "num = int(input(\"enter your multiple number:\"))\n",
    "\n",
    "data = str(num)\n",
    "\n",
    "print(\"given the last digit of numbers:\",data[-1])"
   ]
  },
  {
   "cell_type": "raw",
   "metadata": {
    "id": "UeLHzVZ_MVjw"
   },
   "source": [
    "\n",
    "Q8. Write a program to check whether the last digit of a number( entered by user ) is \n",
    "divisible by 3 or not."
   ]
  },
  {
   "cell_type": "code",
   "execution_count": null,
   "metadata": {
    "id": "KiQ5wnc6MVjx"
   },
   "outputs": [],
   "source": [
    "#Type your code here"
   ]
  },
  {
   "cell_type": "raw",
   "metadata": {
    "id": "CR4sMmRgMVjy"
   },
   "source": [
    "9) Take values of length and breadth of a rectangle from user and check if it is square or not."
   ]
  },
  {
   "cell_type": "code",
   "execution_count": 15,
   "metadata": {
    "id": "Oj1MT5fCMVjy"
   },
   "outputs": [
    {
     "name": "stdout",
     "output_type": "stream",
     "text": [
      "Enter the length:14\n",
      "Enter the breathe:16\n",
      "Rectangle:\n"
     ]
    }
   ],
   "source": [
    "#Type your code here \n",
    "length = int(input(\"Enter the length:\"))\n",
    "\n",
    "breathe = int(input(\"Enter the breathe:\"))\n",
    "\n",
    "if length==breathe:\n",
    "    \n",
    "    print(\"Square:\")\n",
    "    \n",
    "else:\n",
    "    print(\"Rectangle:\")"
   ]
  },
  {
   "cell_type": "raw",
   "metadata": {
    "id": "B2e5VYbiMVjz"
   },
   "source": [
    "10) Take two int values from user and print greatest among them."
   ]
  },
  {
   "cell_type": "code",
   "execution_count": null,
   "metadata": {
    "id": "LyYYL78HMVj0"
   },
   "outputs": [],
   "source": [
    "# Type your code here"
   ]
  },
  {
   "cell_type": "raw",
   "metadata": {
    "id": "R9gMEjdQMVj1"
   },
   "source": [
    "11) A shop will give discount of 10% if the cost of purchased quantity is more than 1000.\n",
    "Ask user for quantity\n",
    "Suppose, one unit will cost 100.\n",
    "Judge and print total cost for user."
   ]
  },
  {
   "cell_type": "code",
   "execution_count": 2,
   "metadata": {
    "id": "hjvEnOzxMVj2"
   },
   "outputs": [
    {
     "name": "stdout",
     "output_type": "stream",
     "text": [
      "enters your product quantity:100\n",
      "congratulations you are eligible of discount offer:\n",
      "your discount price is: 9000.0\n"
     ]
    }
   ],
   "source": [
    "#Type your code here\n",
    "quantity = int(input(\"enters your product quantity:\"))\n",
    "unit_of_cost = 100\n",
    "price = quantity*unit_of_cost\n",
    "if price>=1000:\n",
    "    print(\"congratulations you are eligible of discount offer:\")\n",
    "    discount_price = price - (price/100)*10\n",
    "    print(\"your discount price is:\",discount_price)\n",
    "else:\n",
    "    print(\"you are not eligible to discount offer:\")"
   ]
  },
  {
   "cell_type": "raw",
   "metadata": {
    "id": "yqYL7FZeMVj3"
   },
   "source": [
    "12) A school has following rules for grading system:\n",
    "\n",
    "a. Below 25 - F\n",
    "\n",
    "b. 25 to 45 - E\n",
    "\n",
    "c. 45 to 50 - D\n",
    "\n",
    "d. 50 to 60 - C\n",
    "\n",
    "e. 60 to 80 - B\n",
    "\n",
    "f. Above 80 - A\n",
    "\n",
    "Ask user to enter marks and print the corresponding grade."
   ]
  },
  {
   "cell_type": "code",
   "execution_count": 6,
   "metadata": {
    "id": "he_r-bpOMVj4"
   },
   "outputs": [
    {
     "name": "stdout",
     "output_type": "stream",
     "text": [
      "please your enter sub english:45\n",
      "please your enter sub chemistry:65\n",
      "please your enter sub physics:67\n",
      "59.0\n",
      "C-grade:\n"
     ]
    }
   ],
   "source": [
    "#Type your code here\n",
    "sub_english = int(input(\"please your enter sub english:\"))\n",
    "sub_chemistry = int(input(\"please your enter sub chemistry:\"))\n",
    "sub_physics = int(input(\"please your enter sub physics:\"))\n",
    "obtained_marks = (sub_physics + sub_chemistry +sub_english)\n",
    "total_marks =300\n",
    "percentage = obtained_marks/total_marks*100\n",
    "print(percentage)\n",
    "if percentage<25:\n",
    "    print(\"F-grade\")\n",
    "elif percentage >25 and percentage<=45:\n",
    "    print(\"E-grade:\")\n",
    "elif percentage >45 and percentage <=50:\n",
    "    print(\"D-grade:\")\n",
    "elif percentage>50 and percentage<=60:\n",
    "    print(\"C-grade:\")\n",
    "elif percentage>60 and percentage<=80:\n",
    "    print(\"B-grade:\")\n",
    "elif percentage>80:\n",
    "    print(\"A-GRADE\")\n",
    "else:\n",
    "    print(\"failed\")"
   ]
  },
  {
   "cell_type": "raw",
   "metadata": {
    "id": "IUJjt9NbMVj4"
   },
   "source": [
    "13) Take input of age of 3 people by user and determine oldest and youngest among them."
   ]
  },
  {
   "cell_type": "code",
   "execution_count": 17,
   "metadata": {
    "id": "vlre5Ck0MVj4"
   },
   "outputs": [
    {
     "name": "stdout",
     "output_type": "stream",
     "text": [
      "hello\n"
     ]
    }
   ],
   "source": [
    "#Type your code here\n"
   ]
  },
  {
   "cell_type": "raw",
   "metadata": {
    "id": "Zc9ovDhsMVj5"
   },
   "source": [
    "14)A student will not be allowed to sit in exam if his/her attendence is less than 75%.\n",
    "\n",
    "Take following input from user\n",
    "\n",
    "Number of classes held\n",
    "\n",
    "Number of classes attended.\n",
    "\n",
    "And print\n",
    "\n",
    "percentage of class attended\n",
    "\n",
    "Is student is allowed to sit in exam or not.\n"
   ]
  },
  {
   "cell_type": "code",
   "execution_count": 8,
   "metadata": {
    "id": "rseYum2_MVj6"
   },
   "outputs": [
    {
     "name": "stdout",
     "output_type": "stream",
     "text": [
      "Enter your class held:50\n",
      "Enter your class attended:24\n",
      "48.0\n",
      "you are not allowed to sit exam: \n"
     ]
    }
   ],
   "source": [
    "#Type your code here\n",
    "number_of_class_held = int(input(\"Enter your class held:\"))\n",
    "number_of_class_attended=int(input(\"Enter your class attended:\"))\n",
    "percentage = number_of_class_attended/number_of_class_held*100\n",
    "print(percentage)\n",
    "if percentage<75:\n",
    "    print(\"you are not allowed to sit exam: \")\n",
    "else:\n",
    "    print(\"your are allowed to appear exam:\")"
   ]
  },
  {
   "cell_type": "raw",
   "metadata": {
    "id": "58UPPHAOMVj6"
   },
   "source": [
    "15) Modify the above question to allow student to sit if he/she has medical cause. Ask user if he/she has medical cause or not ( 'Y' or 'N' ) and print accordingly."
   ]
  },
  {
   "cell_type": "code",
   "execution_count": 13,
   "metadata": {
    "id": "lDi-xLzTMVj7"
   },
   "outputs": [
    {
     "name": "stdout",
     "output_type": "stream",
     "text": [
      "Enter your class held:50\n",
      "Enter your class attended:34\n",
      "any medical couse Y or N:Y\n",
      "68.0\n",
      "congratulations due to medical cause you are allowed to sit exam:\n"
     ]
    }
   ],
   "source": [
    "#Type your code here\n",
    "number_of_class_held = int(input(\"Enter your class held:\"))\n",
    "number_of_class_attended=int(input(\"Enter your class attended:\"))\n",
    "percentage = (number_of_class_attended/number_of_class_held)*100\n",
    "medical_cause =input (\"any medical couse Y or N:\")\n",
    "print(percentage)\n",
    "a = medical_cause.upper()\n",
    "if percentage <75 and a ==\"N\":\n",
    "    print(\"sorry you are not allowed to sit exam:\")\n",
    "elif percentage<75 and a==\"Y\":\n",
    "    print(\"congratulations due to medical cause you are allowed to sit exam:\")\n",
    "else:\n",
    "    print(\"you are allowed to sit exam:\")"
   ]
  },
  {
   "cell_type": "raw",
   "metadata": {
    "id": "kJtSy1EoMVj7"
   },
   "source": [
    "16) Write a program to check if a year is leap year or not.\n",
    "\n",
    "If a year is divisible by 4 then it is leap year but if the year is century year like 2000, 1900, 2100 then it must be divisible by 400."
   ]
  },
  {
   "cell_type": "code",
   "execution_count": 19,
   "metadata": {
    "id": "QUL_YUX3MVj7"
   },
   "outputs": [
    {
     "name": "stdout",
     "output_type": "stream",
     "text": [
      "enter year:2000\n",
      "year is leap:\n"
     ]
    }
   ],
   "source": [
    "#Type your code here\n",
    "year = int(input(\"enter year:\"))\n",
    "if (year%4) == 0 and (year%400) == 0:\n",
    "    print(\"year is leap:\")\n",
    "else:\n",
    "    print(\"year is not leap:\")"
   ]
  },
  {
   "cell_type": "raw",
   "metadata": {
    "id": "CCNg4yDDMVj8"
   },
   "source": [
    "17) Ask user to enter age, gender ( M or F ), marital status ( Y or N ) and then using following rules print their place of service.\n",
    "\n",
    "if employee is female, then she will work only in urban areas.\n",
    "\n",
    "if employee is a male and age is in between 20 to 40 then he may work in anywhere\n",
    "\n",
    "if employee is male and age is in between 40 t0 60 then he will work in urban areas only.\n",
    "\n",
    "And any other input of age should print \"ERROR\""
   ]
  },
  {
   "cell_type": "code",
   "execution_count": 26,
   "metadata": {
    "id": "RDWMB0CZMVj8"
   },
   "outputs": [
    {
     "name": "stdout",
     "output_type": "stream",
     "text": [
      "please enter your age:55\n",
      "please enter your gender: M or F: F\n",
      "please enter your marial status: Y or N; Y\n",
      "she will work only in urabian areas:\n"
     ]
    }
   ],
   "source": [
    "#Type your code here\n",
    "age = int(input(\"please enter your age:\"))\n",
    "gender = input(\"please enter your gender: M or F: \")\n",
    "marial_status = input(\"please enter your marial status: Y or N; \")\n",
    "\n",
    "if gender == \"F\":\n",
    "    print(\"she will work only in urabian areas:\")\n",
    "elif gender == \"M\" and age >20 and age <=40:\n",
    "    print(\"he work in anywhere:\")\n",
    "elif gender == \"M\" and age >40 and age<60:\n",
    "    print(\"he wil work in urabian areas omly:\")\n",
    "else:\n",
    "    print(\"ERROR:\")"
   ]
  },
  {
   "cell_type": "code",
   "execution_count": null,
   "metadata": {
    "id": "-TG-QI8TMVj9"
   },
   "outputs": [],
   "source": []
  }
 ],
 "metadata": {
  "colab": {
   "name": "If then Else &Elif Practice Task .ipynb",
   "provenance": []
  },
  "kernelspec": {
   "display_name": "Python 3 (ipykernel)",
   "language": "python",
   "name": "python3"
  },
  "language_info": {
   "codemirror_mode": {
    "name": "ipython",
    "version": 3
   },
   "file_extension": ".py",
   "mimetype": "text/x-python",
   "name": "python",
   "nbconvert_exporter": "python",
   "pygments_lexer": "ipython3",
   "version": "3.9.12"
  }
 },
 "nbformat": 4,
 "nbformat_minor": 1
}
