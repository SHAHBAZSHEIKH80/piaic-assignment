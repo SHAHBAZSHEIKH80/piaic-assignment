{
 "cells": [
  {
   "cell_type": "markdown",
   "id": "01dc96c9",
   "metadata": {},
   "source": [
    "# Write a program to check whether a number is divisible by 7 or not."
   ]
  },
  {
   "cell_type": "code",
   "execution_count": 3,
   "id": "3f90c488",
   "metadata": {},
   "outputs": [
    {
     "name": "stdout",
     "output_type": "stream",
     "text": [
      "enters the number!25\n",
      "oh! not divisible by 7\n"
     ]
    }
   ],
   "source": [
    "number = int(input(\"enters the number!\"))\n",
    "if number %7==0:\n",
    "    print(\"yes divisible by 7!\")\n",
    "else:\n",
    "    print(\"oh! not divisible by 7\")"
   ]
  },
  {
   "cell_type": "code",
   "execution_count": 4,
   "id": "078d49d4",
   "metadata": {},
   "outputs": [],
   "source": [
    "#Q7. Write a program to display \"Hello\" if a number entered by user is a multiple of five , \n",
    "#otherwise print \"Bye\"\n"
   ]
  },
  {
   "cell_type": "code",
   "execution_count": 8,
   "id": "66a528d4",
   "metadata": {},
   "outputs": [
    {
     "name": "stdout",
     "output_type": "stream",
     "text": [
      "enter your number!625\n",
      "HELLO!\n"
     ]
    }
   ],
   "source": [
    "number = int(input(\"enter your number!\"))\n",
    "if number%5==0:\n",
    "    print(\"HELLO!\")\n",
    "else:\n",
    "    print(\"BYE!\")\n"
   ]
  },
  {
   "cell_type": "code",
   "execution_count": 10,
   "id": "38a71881",
   "metadata": {},
   "outputs": [
    {
     "name": "stdout",
     "output_type": "stream",
     "text": [
      "Enter number of electric unit600\n",
      "Amount to pay : 4500\n"
     ]
    }
   ],
   "source": [
    "amt=0\n",
    "nu=int(input(\"Enter number of electric unit\"))\n",
    "if nu<=100:\n",
    "     amt=0\n",
    "if nu>100 and nu<=200:\n",
    "     amt=(nu-100)*5\n",
    "if nu>200:\n",
    "     amt=500+(nu-200)*10\n",
    "print(\"Amount to pay :\",amt)"
   ]
  },
  {
   "cell_type": "code",
   "execution_count": 14,
   "id": "e0fb50f3",
   "metadata": {},
   "outputs": [
    {
     "name": "stdout",
     "output_type": "stream",
     "text": [
      "Enter any number7\n",
      "Last digit of number is  7\n"
     ]
    }
   ],
   "source": [
    "num=int(input(\"Enter any number\"))\n",
    "print(\"Last digit of number is \",num%10)"
   ]
  },
  {
   "cell_type": "code",
   "execution_count": 18,
   "id": "e48bef08",
   "metadata": {},
   "outputs": [
    {
     "name": "stdout",
     "output_type": "stream",
     "text": [
      "Enter any number76\n",
      "Last digit of number is not divisible by 3 \n"
     ]
    }
   ],
   "source": [
    "num=int(input(\"Enter any number\"))\n",
    "\n",
    "if num%3==0:\n",
    "     print(\"Last digit of number is divisible by 3 \")\n",
    "else:\n",
    "     print(\"Last digit of number is not divisible by 3 \")"
   ]
  },
  {
   "cell_type": "code",
   "execution_count": 28,
   "id": "70557a2b",
   "metadata": {},
   "outputs": [
    {
     "name": "stdout",
     "output_type": "stream",
     "text": [
      "enters price of bike!120000\n",
      "tax to be paid 18000.0\n"
     ]
    }
   ],
   "source": [
    "#Q2. Write a program to accept the cost price of a bike and display \n",
    "#the road tax to be paid according to the following criteria :\n",
    "# Cost price (in Rs)                                              Tax\n",
    "#        > 100000                                                  15 %\n",
    "#        > 50000 and <= 100000                                     10%\n",
    " #       <= 50000 \n",
    "tax = 0  \n",
    "pr = int(input(\"enters price of bike!\"))\n",
    "if pr >100000:\n",
    "    tax =15/100*pr\n",
    "elif pr >50000 and pr <=100000:\n",
    "    tax= 10/100*pr\n",
    "else:\n",
    "    tax=5/100*pr\n",
    "\n",
    "print(\"tax to be paid\" , tax)"
   ]
  },
  {
   "cell_type": "code",
   "execution_count": 27,
   "id": "fe5ef000",
   "metadata": {},
   "outputs": [
    {
     "name": "stdout",
     "output_type": "stream",
     "text": [
      "Enter the price of bike60000\n",
      "tax to be paid  6000.0\n"
     ]
    }
   ],
   "source": [
    "tax = 0\n",
    "pr=int(input(\"Enter the price of bike\"))\n",
    "if pr > 100000:\n",
    "     tax = 15/100*pr\n",
    "elif pr >50000 and pr <=100000:\n",
    "     tax = 10/100*pr\n",
    "else:\n",
    "     tax = 5/100*pr\n",
    "print(\"tax to be paid \",tax)"
   ]
  },
  {
   "cell_type": "code",
   "execution_count": 33,
   "id": "a92274b4",
   "metadata": {},
   "outputs": [
    {
     "name": "stdout",
     "output_type": "stream",
     "text": [
      "enters any number from 1 to 7!8\n",
      "not weeks days!\n"
     ]
    }
   ],
   "source": [
    "#Q4. Write a program to accept a number from 1 to 7\n",
    "#and display the name of the day like 1 for Sunday , 2 for Monday and so on\n",
    "num = int(input(\"enters any number from 1 to 7!\"))\n",
    "if num ==1:\n",
    "    print(\"sunday!\")\n",
    "elif num == 2:\n",
    "    print(\"monday!\")\n",
    "elif num == 3:\n",
    "    print(\"tuesday!\")\n",
    "elif num == 4:\n",
    "    print(\"wednesday!\")\n",
    "elif num == 5:\n",
    "    print(\"thursday!\")\n",
    "elif num == 6:\n",
    "    print(\"friday!\")\n",
    "elif num == 7:\n",
    "    print(\"saturday!\")\n",
    "else:\n",
    "    print(\"not weeks days!\")\n",
    "    "
   ]
  },
  {
   "cell_type": "code",
   "execution_count": 58,
   "id": "8cf23dae",
   "metadata": {},
   "outputs": [
    {
     "name": "stdout",
     "output_type": "stream",
     "text": [
      "enter any number between 1 to 7:5\n",
      "may!\n"
     ]
    }
   ],
   "source": [
    "#Q5. Write a program to accept a number from 1 to 12 and display name of the month\n",
    "#and days in that month like 1 for January and number of days 31 and so on\n",
    "num = int(input(\"enter any number between 1 to 7:\"))\n",
    "if num == 1:\n",
    "    print(\"january\")\n",
    "elif num == 2:\n",
    "    print(\"febrauray\")\n",
    "elif num == 3:\n",
    "    print(\"march\")\n",
    "elif num == 4:\n",
    "    print(\"april\")\n",
    "elif num == 5:\n",
    "    print(\"may!\")\n",
    "elif num == 6:\n",
    "    print(\"june\")\n",
    "elif num == 7:\n",
    "    print(\"july\")\n",
    "elif num == 8:\n",
    "    print(\"august\")\n",
    "elif num == 9:\n",
    "    print(\"september\")\n",
    "elif num == 10:\n",
    "    print(\"october\")\n",
    "elif num == 11:\n",
    "    print(\"november\")\n",
    "elif num == 12:\n",
    "    print(\"december\")\n",
    "else:\n",
    "    print(\"please enter any number from 1 to 12\")\n"
   ]
  },
  {
   "cell_type": "code",
   "execution_count": 53,
   "id": "b648aba0",
   "metadata": {},
   "outputs": [
    {
     "name": "stdout",
     "output_type": "stream",
     "text": [
      "Enter any number between 1 to 7 : 3\n",
      "March\n"
     ]
    }
   ],
   "source": [
    "num=int(input(\"Enter any number between 1 to 7 : \"))\n",
    "if num==1:\n",
    "    print(\"January\")\n",
    "elif num==2:\n",
    "    print(\"February\")\n",
    "elif num==3:\n",
    "    print(\"March\")\n",
    "elif num==4:\n",
    "    print(\"April\")\n",
    "elif num==5:\n",
    "    print(\"May\")\n",
    "elif num==6:\n",
    "    print(\"June\")\n",
    "elif num==7:\n",
    "    print(\"July\")\n",
    "elif num==8:\n",
    "    print(\"August\")\n",
    "elif num==9:\n",
    "    print(\"September\")\n",
    "elif num==10:\n",
    "    print(\"October\")\n",
    "elif num==11:\n",
    "    print(\"November\")\n",
    "elif num==12:\n",
    "    print(\"December\")\n",
    "else:\n",
    "    print(\"Please enter number between 1 to 12\")"
   ]
  },
  {
   "cell_type": "code",
   "execution_count": 66,
   "id": "02c89eef",
   "metadata": {},
   "outputs": [
    {
     "name": "stdout",
     "output_type": "stream",
     "text": [
      "enters your city name:Delhi\n",
      "monument:Red fort\n"
     ]
    }
   ],
   "source": [
    "#Accept any city from the user and display monument of that city.\n",
    " #                 City                                 Monument\n",
    "  #                Delhi                               Red Fort\n",
    "   #               Agra                                Taj Mahal\n",
    "    #              Jaipur                              Jal Mahal\n",
    "city = input(\"enters your city name:\").lower()\n",
    "if city == \"delhi\":\n",
    "    print(\"monument:Red fort\")\n",
    "elif city == \"agra\":\n",
    "    print(\"monument: taj mahal\")\n",
    "elif city == \"jaipur\":\n",
    "    print(\"monument: jal mahal\")\n",
    "else:\n",
    "    print(\"do not match city\")"
   ]
  },
  {
   "cell_type": "code",
   "execution_count": 68,
   "id": "e1a23b42",
   "metadata": {},
   "outputs": [
    {
     "name": "stdout",
     "output_type": "stream",
     "text": [
      "enter any person age:34\n",
      "not senior citizen:\n"
     ]
    }
   ],
   "source": [
    "#Write a program to check whether a person is senior citizen or not\n",
    "age = int(input(\"enter any person age:\"))\n",
    "if age > 60:\n",
    "    print(\"senior citizen:\")\n",
    "else:\n",
    "    print(\"not senior citizen:\")"
   ]
  },
  {
   "cell_type": "code",
   "execution_count": 77,
   "id": "4f69ae10",
   "metadata": {},
   "outputs": [
    {
     "name": "stdout",
     "output_type": "stream",
     "text": [
      "enter first number:34\n",
      "enter second number:56\n",
      "greater number is : 56\n"
     ]
    }
   ],
   "source": [
    "#Write a program to find the largest number out of two numbers excepted from user.\n",
    "num1 = int(input(\"enter first number:\"))\n",
    "num2 = int(input(\"enter second number:\"))\n",
    "if num1 > num2:\n",
    "    print(\"greater number is :\", num1 )\n",
    "else:\n",
    "    print(\"greater number is :\", num2 )"
   ]
  },
  {
   "cell_type": "code",
   "execution_count": 79,
   "id": "447f8329",
   "metadata": {},
   "outputs": [
    {
     "name": "stdout",
     "output_type": "stream",
     "text": [
      "enter you number:4\n",
      "NUMBER POSITIVE:\n"
     ]
    }
   ],
   "source": [
    "# Write a program to check whether a number (accepted from user) is positive or negative\n",
    "number = int(input(\"enter you number:\"))\n",
    "if number >0:\n",
    "    print(\"NUMBER POSITIVE:\")\n",
    "else:\n",
    "    print(\"NUMBER NEGATIVE:\")"
   ]
  },
  {
   "cell_type": "code",
   "execution_count": 90,
   "id": "903d926f",
   "metadata": {},
   "outputs": [
    {
     "name": "stdout",
     "output_type": "stream",
     "text": [
      "enter first number:6\n",
      "divisible by 2 and 3 both:\n"
     ]
    }
   ],
   "source": [
    "# Write a program to whether a number (accepted from user) is divisible by 2 and 3 both.\n",
    "number = int(input(\"enter first number:\"))\n",
    "if number%2==0 and number%3==0:\n",
    "    print(\"divisible by 2 and 3 both:\")\n",
    "else:\n",
    "    print(\"not divisible:\")"
   ]
  },
  {
   "cell_type": "code",
   "execution_count": 92,
   "id": "a564b441",
   "metadata": {},
   "outputs": [
    {
     "name": "stdout",
     "output_type": "stream",
     "text": [
      "enter first number:33\n",
      "enter second number:56\n",
      "enter third number:78\n",
      "greater number: 78\n"
     ]
    }
   ],
   "source": [
    "#Write a program to find the largest number out of three numbers excepted from user.\n",
    "num1 = int(input(\"enter first number:\"))\n",
    "num2 = int(input(\"enter second number:\"))\n",
    "num3 = int(input(\"enter third number:\"))\n",
    "if num1>num2 and num1>num3:\n",
    "    \n",
    "    print(\"greter number:\", num1)\n",
    "    \n",
    "elif num2>num1 and num2>num3:\n",
    "    \n",
    "    print(\"greater number;\" , num2)\n",
    "    \n",
    "elif num3>num1 and num3>2:\n",
    "    \n",
    "    print(\"greater number:\" , num3)\n",
    "    \n"
   ]
  },
  {
   "cell_type": "code",
   "execution_count": 95,
   "id": "167b6abf",
   "metadata": {},
   "outputs": [
    {
     "name": "stdout",
     "output_type": "stream",
     "text": [
      "enter age first person:23\n",
      "enter age second person:45\n",
      "enter age third person:22\n",
      "enter age forth person:18\n",
      "yongest man: 18\n"
     ]
    }
   ],
   "source": [
    "#Accept the age of 4 people and display the youngest one?\n",
    "age1 = int(input(\"enter age first person:\"))\n",
    "age2 = int(input(\"enter age second person:\"))\n",
    "age3 = int(input(\"enter age third person:\"))\n",
    "age4 = int(input(\"enter age forth person:\"))\n",
    "if age1<age2 and age1<age3 and age1<age4:\n",
    "    \n",
    "    print(\"youngest man:\" ,age1)\n",
    "    \n",
    "elif age2<age1 and age2<age3 and age2<age4:\n",
    "    \n",
    "    print(\"youngest man:\" , age2)\n",
    "    \n",
    "elif age3<age1 and age3<age2 and age3<age4:\n",
    "    \n",
    "    print(\"youngest man:\" , age3)\n",
    "    \n",
    "elif age4<age1 and age4<age2 and age4<age3:\n",
    "    \n",
    "    print(\"yongest man:\" ,age4)\n",
    "    "
   ]
  },
  {
   "cell_type": "code",
   "execution_count": 96,
   "id": "054d8b10",
   "metadata": {},
   "outputs": [
    {
     "name": "stdout",
     "output_type": "stream",
     "text": [
      "enter first number:23\n",
      "enter second number:12\n",
      "enter third number:56\n",
      "smallest number; 12\n"
     ]
    }
   ],
   "source": [
    "#Write a program to find the smallest number out of three numbers excepted from user.\n",
    "num1 = int(input(\"enter first number:\"))\n",
    "num2 = int(input(\"enter second number:\"))\n",
    "num3 = int(input(\"enter third number:\"))\n",
    "if num1<num2 and num1<num3:\n",
    "    \n",
    "    print(\"smallest number:\", num1)\n",
    "    \n",
    "elif num2<num1 and num2<num3:\n",
    "    \n",
    "    print(\"smallest number;\" , num2)\n",
    "    \n",
    "elif num3<num1 and num3<2:\n",
    "    \n",
    "    print(\"smallest number:\" , num3)\n",
    "    \n"
   ]
  },
  {
   "cell_type": "code",
   "execution_count": 97,
   "id": "5243dbad",
   "metadata": {},
   "outputs": [
    {
     "name": "stdout",
     "output_type": "stream",
     "text": [
      "Enter total number of working days200\n",
      "Enter number of days  absent17\n",
      "Your attendance is  91.5\n",
      "You are eligible for writing exam\n"
     ]
    }
   ],
   "source": [
    "nd = int(input(\"Enter total number of working days\"))\n",
    "na = int(input(\"Enter number of days  absent\"))\n",
    "per=(nd-na)/nd*100\n",
    "print(\"Your attendance is \",per)\n",
    "if per <75 :\n",
    "     print(\"You are not eligible for exams\")\n",
    "else:\n",
    "     print(\"You are eligible for writing exam\")"
   ]
  },
  {
   "cell_type": "code",
   "execution_count": null,
   "id": "c0130a2a",
   "metadata": {},
   "outputs": [],
   "source": []
  }
 ],
 "metadata": {
  "kernelspec": {
   "display_name": "Python 3 (ipykernel)",
   "language": "python",
   "name": "python3"
  },
  "language_info": {
   "codemirror_mode": {
    "name": "ipython",
    "version": 3
   },
   "file_extension": ".py",
   "mimetype": "text/x-python",
   "name": "python",
   "nbconvert_exporter": "python",
   "pygments_lexer": "ipython3",
   "version": "3.9.12"
  }
 },
 "nbformat": 4,
 "nbformat_minor": 5
}
