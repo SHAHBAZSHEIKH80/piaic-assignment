{
 "cells": [
  {
   "cell_type": "markdown",
   "metadata": {},
   "source": [
    "# Topic: print()"
   ]
  },
  {
   "cell_type": "markdown",
   "metadata": {},
   "source": [
    "1) Using the python print function print any string value, integer value, boolean value, float value in single print command"
   ]
  },
  {
   "cell_type": "code",
   "execution_count": 11,
   "metadata": {},
   "outputs": [
    {
     "name": "stdout",
     "output_type": "stream",
     "text": [
      "python 367 True False 35.678\n"
     ]
    }
   ],
   "source": [
    "# type your code here\n",
    "print(\"python\" , 367 , True,False , 35.678)"
   ]
  },
  {
   "cell_type": "markdown",
   "metadata": {},
   "source": [
    "2) Using the python print function print hyphon(-) separated any string value, integer value, boolean value, float value in single print command"
   ]
  },
  {
   "cell_type": "code",
   "execution_count": 16,
   "metadata": {},
   "outputs": [
    {
     "name": "stdout",
     "output_type": "stream",
     "text": [
      "Noman-29-29.765-True-False\n"
     ]
    }
   ],
   "source": [
    "# type your code here\n",
    "print(\"Noman\",29,29.765,True,False, sep=\"-\")"
   ]
  },
  {
   "cell_type": "markdown",
   "metadata": {},
   "source": [
    "3) Using the python print function print any string value, integer value, boolean value, float value in separate print command.\n",
    "But every value must be space separated and in single line "
   ]
  },
  {
   "cell_type": "code",
   "execution_count": 17,
   "metadata": {},
   "outputs": [
    {
     "name": "stdout",
     "output_type": "stream",
     "text": [
      "shahbaz\n",
      "36\n",
      "45.678\n",
      "True\n",
      "False\n"
     ]
    }
   ],
   "source": [
    "# type your code here\n",
    "print(\"shahbaz\",36,45.678,True,False,sep=\"\\n\")\n"
   ]
  },
  {
   "cell_type": "markdown",
   "metadata": {},
   "source": [
    "4) Can a python print function take no value to print???"
   ]
  },
  {
   "cell_type": "code",
   "execution_count": 18,
   "metadata": {},
   "outputs": [
    {
     "name": "stdout",
     "output_type": "stream",
     "text": [
      "\n"
     ]
    }
   ],
   "source": [
    "# type your answer here\n",
    "print()"
   ]
  },
  {
   "cell_type": "markdown",
   "metadata": {},
   "source": [
    "# TOPIC :Variables in Python Operators"
   ]
  },
  {
   "cell_type": "markdown",
   "metadata": {},
   "source": [
    "5) One of my friends name is Mr. Ahmed. He is 30 years old.  He is a lawer by profession. He has done his bachelors in law in the year 2005. He is working with a reputable law firm 'The Himalya Associates' in Karachi since 2015.\n",
    "He is a handsome lawer with height of 5.10 feets and weight 70600g. His monthly income is Rs. 200k PKR.\n",
    "\n",
    "Note: Create variables from above text and also assign values from the text.  "
   ]
  },
  {
   "cell_type": "code",
   "execution_count": 23,
   "metadata": {},
   "outputs": [
    {
     "name": "stdout",
     "output_type": "stream",
     "text": [
      "Mr.Ahmed:\n",
      "30\n",
      "lawer:\n",
      "bachelor in law 2005:\n",
      "The Himalya Associates:\n",
      "5.10\n",
      "70600g:\n",
      "200K:\n"
     ]
    }
   ],
   "source": [
    "#type your code here\n",
    "friends_name = \"Mr.Ahmed:\"\n",
    "age = \"30\"\n",
    "profession = \"lawer:\"\n",
    "education = \"bachelor in law 2005:\"\n",
    "law_firm = \"The Himalya Associates:\"\n",
    "height = \"5.10\"\n",
    "weight = \"70600g:\"\n",
    "monthly_income = \"200K:\"\n",
    "print(friends_name,age,profession,education,law_firm,height,weight,monthly_income,sep=\"\\n\")"
   ]
  },
  {
   "cell_type": "markdown",
   "metadata": {},
   "source": [
    "6)How many years has been to Mr. Ahmed after his bachelors degree? Create a variable that hold current year value and then subtract it from his passout year"
   ]
  },
  {
   "cell_type": "code",
   "execution_count": 32,
   "metadata": {},
   "outputs": [
    {
     "name": "stdout",
     "output_type": "stream",
     "text": [
      "total years pass_out: 7\n"
     ]
    }
   ],
   "source": [
    "#type your code here \n",
    "years_of_bachelor= 2015\n",
    "current_year= 2022\n",
    "years=(current_year-years_of_bachelor)\n",
    "print(\"total years pass_out:\" ,years)\n"
   ]
  },
  {
   "cell_type": "markdown",
   "metadata": {},
   "source": [
    "7) How many years has Mr. Ahmed been working with law firm 'The Himalya Associates'. Create necesary variables and print the correct number of years in working in the firm"
   ]
  },
  {
   "cell_type": "code",
   "execution_count": 34,
   "metadata": {},
   "outputs": [
    {
     "name": "stdout",
     "output_type": "stream",
     "text": [
      "mr ahmed working law firm The himalya associates: 7\n"
     ]
    }
   ],
   "source": [
    "#type your code here \n",
    "joining_year=2015\n",
    "current_year=2022\n",
    "total_years=(current_year-joining_year)\n",
    "print(\"mr ahmed working law firm The himalya associates:\",total_years)\n"
   ]
  },
  {
   "cell_type": "markdown",
   "metadata": {},
   "source": [
    "8)Convert the monthly income of Mr. Ahmed in dollars.  Create necesary variables and print the income in dollars."
   ]
  },
  {
   "cell_type": "code",
   "execution_count": 36,
   "metadata": {},
   "outputs": [
    {
     "name": "stdout",
     "output_type": "stream",
     "text": [
      "enter salary in pkr:200000\n",
      "your salary in dollar:$ 46400000\n"
     ]
    }
   ],
   "source": [
    "#type your code here \n",
    "monthly_income_in_pkr = int(input(\"enter salary in pkr:\"))\n",
    "convert_salary_in_dollar = monthly_income_in_pkr*232\n",
    "print(\"your salary in dollar:\" \"$\", convert_salary_in_dollar)\n"
   ]
  },
  {
   "cell_type": "markdown",
   "metadata": {},
   "source": [
    "9) Check if the income in dollars is a float or integer value. if it is float, re-write the code so that income gets converted in integer. print the income in integer type value"
   ]
  },
  {
   "cell_type": "code",
   "execution_count": 3,
   "metadata": {
    "scrolled": true
   },
   "outputs": [
    {
     "name": "stdout",
     "output_type": "stream",
     "text": [
      "enter your salary in float:22.4556\n",
      "income_in_integer: 22\n"
     ]
    }
   ],
   "source": [
    "#type your code here \n",
    "salary_in_float = float(input(\"enter your salary in float:\"))\n",
    "convert_in_integer = int(salary_in_float)\n",
    "print(\"income_in_integer:\", convert_in_integer)"
   ]
  },
  {
   "cell_type": "raw",
   "metadata": {},
   "source": [
    "10) Print the type of Mr. Ahmed's weight. Convert the weight of Mr. Ahmed in kg so that weight must be a integer value. "
   ]
  },
  {
   "cell_type": "code",
   "execution_count": 8,
   "metadata": {},
   "outputs": [
    {
     "name": "stdout",
     "output_type": "stream",
     "text": [
      "enter mr ahmed weight in gm:70600\n",
      "weight_in_kg: 70 kg\n"
     ]
    }
   ],
   "source": [
    "#type your code here \n",
    "weight_in_gram = int(input(\"enter mr ahmed weight in gm:\"))\n",
    "weight_in_kg =weight_in_gram/1000\n",
    "total_weight = int(weight_in_kg)\n",
    "print( \"weight_in_kg:\", total_weight,\"kg\")\n"
   ]
  },
  {
   "cell_type": "raw",
   "metadata": {},
   "source": [
    "11) print the year of birth of Mr. Ahmed."
   ]
  },
  {
   "cell_type": "code",
   "execution_count": 13,
   "metadata": {},
   "outputs": [
    {
     "name": "stdout",
     "output_type": "stream",
     "text": [
      "enter your current age:30\n",
      "from now his year of birth: 1992\n"
     ]
    }
   ],
   "source": [
    "#type your code here\n",
    "current_age =int(input(\"enter your current age:\"))\n",
    "year_of_birth = 2022-current_age\n",
    "print(\"from now his year of birth:\", year_of_birth)\n"
   ]
  },
  {
   "cell_type": "markdown",
   "metadata": {},
   "source": [
    "12) Can Rs. 100 be divided equally among 6 students? \n",
    "HINT: % operator"
   ]
  },
  {
   "cell_type": "code",
   "execution_count": 16,
   "metadata": {},
   "outputs": [
    {
     "name": "stdout",
     "output_type": "stream",
     "text": [
      "4\n"
     ]
    }
   ],
   "source": [
    "#type your code here \n",
    "shahbaz = 100\n",
    "ahmed = 6\n",
    "saad = shahbaz%ahmed\n",
    "print(saad)\n",
    "#cannot divide equally\n"
   ]
  },
  {
   "cell_type": "code",
   "execution_count": null,
   "metadata": {},
   "outputs": [],
   "source": []
  }
 ],
 "metadata": {
  "kernelspec": {
   "display_name": "Python 3 (ipykernel)",
   "language": "python",
   "name": "python3"
  },
  "language_info": {
   "codemirror_mode": {
    "name": "ipython",
    "version": 3
   },
   "file_extension": ".py",
   "mimetype": "text/x-python",
   "name": "python",
   "nbconvert_exporter": "python",
   "pygments_lexer": "ipython3",
   "version": "3.9.12"
  }
 },
 "nbformat": 4,
 "nbformat_minor": 2
}
